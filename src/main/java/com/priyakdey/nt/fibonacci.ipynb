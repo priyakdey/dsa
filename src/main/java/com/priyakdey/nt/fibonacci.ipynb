{
 "cells": [
  {
   "cell_type": "code",
   "execution_count": 1,
   "id": "853d6f3e-56fe-4d13-9fb4-bbc2bf2cb477",
   "metadata": {},
   "outputs": [],
   "source": [
    "import matplotlib.pyplot as plt\n",
    "import numpy as np"
   ]
  },
  {
   "cell_type": "code",
   "execution_count": 2,
   "id": "97bf5cd5-c656-4625-b6c7-ed7f4c2c2623",
   "metadata": {},
   "outputs": [],
   "source": [
    "def fibnonacci_sequence(n: int) -> int:\n",
    "    prev, curr = 0, 1\n",
    "    for _ in range(2, n + 1):\n",
    "        prev, curr = curr, prev + curr\n",
    "    return curr\n"
   ]
  },
  {
   "cell_type": "code",
   "execution_count": 3,
   "id": "e79173ca-43f4-4f77-94ee-b2d4a20cbe55",
   "metadata": {},
   "outputs": [],
   "source": [
    "plt.style.use(\"_mpl-gallery\")"
   ]
  },
  {
   "cell_type": "code",
   "execution_count": 4,
   "id": "80267c0c-101b-468e-bb84-1f63d45a5d2d",
   "metadata": {},
   "outputs": [],
   "source": [
    "# prepare data\n",
    "limit = 1000\n",
    "x = np.array([i for i in range(limit)])\n",
    "y = np.array([fibnonacci_sequence(i) for i in range(limit)])"
   ]
  },
  {
   "cell_type": "code",
   "execution_count": 6,
   "id": "9da5c7ad-f47f-4597-8105-b1d9dd86eaf1",
   "metadata": {},
   "outputs": [
    {
     "data": {
      "image/png": "[encoded data removed]",
      "text/plain": [
       "<Figure size 200x200 with 1 Axes>"
      ]
     },
     "metadata": {},
     "output_type": "display_data"
    }
   ],
   "source": [
    "# plot\n",
    "fig, ax = plt.subplots()\n",
    "ax.plot(x, y)\n",
    "plt.show()"
   ]
  },
  {
   "cell_type": "code",
   "execution_count": null,
   "id": "f1b0d56f-c718-465e-ba49-0e3a03fa026b",
   "metadata": {},
   "outputs": [],
   "source": []
  },
  {
   "cell_type": "code",
   "execution_count": null,
   "id": "64e3159b-c13c-4894-bd28-d95aa3784840",
   "metadata": {},
   "outputs": [],
   "source": []
  },
  {
   "cell_type": "code",
   "execution_count": null,
   "id": "1c713a9d-9cb5-46ad-9e6e-71dbb21c4389",
   "metadata": {},
   "outputs": [],
   "source": []
  }
 ],
 "metadata": {
  "kernelspec": {
   "display_name": "Python 3 (ipykernel)",
   "language": "python",
   "name": "python3"
  },
  "language_info": {
   "codemirror_mode": {
    "name": "ipython",
    "version": 3
   },
   "file_extension": ".py",
   "mimetype": "text/x-python",
   "name": "python",
   "nbconvert_exporter": "python",
   "pygments_lexer": "ipython3",
   "version": "3.12.1"
  }
 },
 "nbformat": 4,
 "nbformat_minor": 5
}
